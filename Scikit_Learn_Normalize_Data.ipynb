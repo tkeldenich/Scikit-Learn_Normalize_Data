{
  "nbformat": 4,
  "nbformat_minor": 0,
  "metadata": {
    "colab": {
      "name": "Scikit-Learn_Normalize_Data.ipynb",
      "provenance": [],
      "collapsed_sections": [],
      "authorship_tag": "ABX9TyM7QIW5w8YT07Ekvwpth+M6",
      "include_colab_link": true
    },
    "kernelspec": {
      "name": "python3",
      "display_name": "Python 3"
    },
    "language_info": {
      "name": "python"
    }
  },
  "cells": [
    {
      "cell_type": "markdown",
      "metadata": {
        "id": "view-in-github",
        "colab_type": "text"
      },
      "source": [
        "<a href=\"https://colab.research.google.com/github/tkeldenich/Scikit-Learn_Normalize_Data/blob/main/Scikit_Learn_Normalize_Data.ipynb\" target=\"_parent\"><img src=\"https://colab.research.google.com/assets/colab-badge.svg\" alt=\"Open In Colab\"/></a>"
      ]
    },
    {
      "cell_type": "markdown",
      "source": [
        "# **Normalize your Data – 3 Easy Ways – How to Do**"
      ],
      "metadata": {
        "id": "T80pNn1U9B2X"
      }
    },
    {
      "cell_type": "markdown",
      "source": [
        "- [English Article](https://inside-machinelearning.com/en/normalize-your-data/)\n",
        "- [French Article](https://inside-machinelearning.com/normaliser-donnees-2-minutes/)"
      ],
      "metadata": {
        "id": "sGHVAYtx9GFi"
      }
    },
    {
      "cell_type": "markdown",
      "source": [
        "Normalize your data in 3 easy ways, both for DataFrame and Numpy Array. This is the challenge of this article!\n",
        "\n",
        "> Normalization is changing the scale of the values in a dataset to standardize them.\n",
        "\n",
        "Instead of having a column of data going from 8 to 1800 and another one going from -37 to 90, we normalize the whole to make them go from 0 to 1.\n",
        "\n",
        "**But why normalize?**\n",
        "\n",
        "By normalizing each of our columns so that they have the same distribution, we help our Machine Learning model during its learning process. Indeed, this allows the model to analyze each of our columns using the same approach.\n",
        "\n",
        "Thus the model does not have to adapt its input channels to different scales but only to one.\n",
        "\n",
        "**In mathematical language: normalization helps optimize the loss function and make it converge faster.**\n",
        "\n",
        "This makes it a technique used for both Machine Learning and Deep Learning.\n",
        "\n",
        "The larger the number of columns in a dataset, the longer it takes to manually normalize it.\n",
        "\n",
        "Fortunately for us, [Scikit-Learn](https://scikit-learn.org/stable/) allows us to perform this task automatically.\n",
        "\n",
        "Let’s see that right now!"
      ],
      "metadata": {
        "id": "TlnoBLPW9PmN"
      }
    },
    {
      "cell_type": "markdown",
      "source": [
        "## **Data**"
      ],
      "metadata": {
        "id": "WWAmzMhM9Ww5"
      }
    },
    {
      "cell_type": "markdown",
      "source": [
        "For this tutorial we will use the wine quality dataset.\n",
        "\n",
        "We used it [in this detailed article to learn Machine Learning.](https://inside-machinelearning.com/en/scikit-learn-project-start-ml/)\n",
        "\n",
        "The objective is to predict the quality of wine from its features (acidity, alcohol content, pH, etc). You can download the dataset [from this Github address.](https://github.com/tkeldenich/First_Project_with_Scikit-Learn_MachineLearning/blob/main/winequality-white.csv)\n",
        "\n",
        "Once loaded in your work environment, open it with the Pandas library:\n",
        "\n"
      ],
      "metadata": {
        "id": "mcTRCNOu9Wu4"
      }
    },
    {
      "cell_type": "code",
      "source": [
        "import pandas as pd\n",
        "\n",
        "df = pd.read_csv(\"winequality-white.csv\", sep=\";\")\n",
        "df.head(3)"
      ],
      "metadata": {
        "colab": {
          "base_uri": "https://localhost:8080/",
          "height": 203
        },
        "id": "_B4gsJJ-iAEN",
        "outputId": "e74c6de3-5a88-427d-acf2-38d54b924ead"
      },
      "execution_count": null,
      "outputs": [
        {
          "output_type": "execute_result",
          "data": {
            "text/plain": [
              "   fixed acidity  volatile acidity  citric acid  residual sugar  chlorides  \\\n",
              "0            7.0              0.27         0.36            20.7      0.045   \n",
              "1            6.3              0.30         0.34             1.6      0.049   \n",
              "2            8.1              0.28         0.40             6.9      0.050   \n",
              "\n",
              "   free sulfur dioxide  total sulfur dioxide  density    pH  sulphates  \\\n",
              "0                 45.0                 170.0   1.0010  3.00       0.45   \n",
              "1                 14.0                 132.0   0.9940  3.30       0.49   \n",
              "2                 30.0                  97.0   0.9951  3.26       0.44   \n",
              "\n",
              "   alcohol  quality  \n",
              "0      8.8        6  \n",
              "1      9.5        6  \n",
              "2     10.1        6  "
            ],
            "text/html": [
              "\n",
              "  <div id=\"df-ba7afe4f-2012-48ed-8fbb-822ff32be0ff\">\n",
              "    <div class=\"colab-df-container\">\n",
              "      <div>\n",
              "<style scoped>\n",
              "    .dataframe tbody tr th:only-of-type {\n",
              "        vertical-align: middle;\n",
              "    }\n",
              "\n",
              "    .dataframe tbody tr th {\n",
              "        vertical-align: top;\n",
              "    }\n",
              "\n",
              "    .dataframe thead th {\n",
              "        text-align: right;\n",
              "    }\n",
              "</style>\n",
              "<table border=\"1\" class=\"dataframe\">\n",
              "  <thead>\n",
              "    <tr style=\"text-align: right;\">\n",
              "      <th></th>\n",
              "      <th>fixed acidity</th>\n",
              "      <th>volatile acidity</th>\n",
              "      <th>citric acid</th>\n",
              "      <th>residual sugar</th>\n",
              "      <th>chlorides</th>\n",
              "      <th>free sulfur dioxide</th>\n",
              "      <th>total sulfur dioxide</th>\n",
              "      <th>density</th>\n",
              "      <th>pH</th>\n",
              "      <th>sulphates</th>\n",
              "      <th>alcohol</th>\n",
              "      <th>quality</th>\n",
              "    </tr>\n",
              "  </thead>\n",
              "  <tbody>\n",
              "    <tr>\n",
              "      <th>0</th>\n",
              "      <td>7.0</td>\n",
              "      <td>0.27</td>\n",
              "      <td>0.36</td>\n",
              "      <td>20.7</td>\n",
              "      <td>0.045</td>\n",
              "      <td>45.0</td>\n",
              "      <td>170.0</td>\n",
              "      <td>1.0010</td>\n",
              "      <td>3.00</td>\n",
              "      <td>0.45</td>\n",
              "      <td>8.8</td>\n",
              "      <td>6</td>\n",
              "    </tr>\n",
              "    <tr>\n",
              "      <th>1</th>\n",
              "      <td>6.3</td>\n",
              "      <td>0.30</td>\n",
              "      <td>0.34</td>\n",
              "      <td>1.6</td>\n",
              "      <td>0.049</td>\n",
              "      <td>14.0</td>\n",
              "      <td>132.0</td>\n",
              "      <td>0.9940</td>\n",
              "      <td>3.30</td>\n",
              "      <td>0.49</td>\n",
              "      <td>9.5</td>\n",
              "      <td>6</td>\n",
              "    </tr>\n",
              "    <tr>\n",
              "      <th>2</th>\n",
              "      <td>8.1</td>\n",
              "      <td>0.28</td>\n",
              "      <td>0.40</td>\n",
              "      <td>6.9</td>\n",
              "      <td>0.050</td>\n",
              "      <td>30.0</td>\n",
              "      <td>97.0</td>\n",
              "      <td>0.9951</td>\n",
              "      <td>3.26</td>\n",
              "      <td>0.44</td>\n",
              "      <td>10.1</td>\n",
              "      <td>6</td>\n",
              "    </tr>\n",
              "  </tbody>\n",
              "</table>\n",
              "</div>\n",
              "      <button class=\"colab-df-convert\" onclick=\"convertToInteractive('df-ba7afe4f-2012-48ed-8fbb-822ff32be0ff')\"\n",
              "              title=\"Convert this dataframe to an interactive table.\"\n",
              "              style=\"display:none;\">\n",
              "        \n",
              "  <svg xmlns=\"http://www.w3.org/2000/svg\" height=\"24px\"viewBox=\"0 0 24 24\"\n",
              "       width=\"24px\">\n",
              "    <path d=\"M0 0h24v24H0V0z\" fill=\"none\"/>\n",
              "    <path d=\"M18.56 5.44l.94 2.06.94-2.06 2.06-.94-2.06-.94-.94-2.06-.94 2.06-2.06.94zm-11 1L8.5 8.5l.94-2.06 2.06-.94-2.06-.94L8.5 2.5l-.94 2.06-2.06.94zm10 10l.94 2.06.94-2.06 2.06-.94-2.06-.94-.94-2.06-.94 2.06-2.06.94z\"/><path d=\"M17.41 7.96l-1.37-1.37c-.4-.4-.92-.59-1.43-.59-.52 0-1.04.2-1.43.59L10.3 9.45l-7.72 7.72c-.78.78-.78 2.05 0 2.83L4 21.41c.39.39.9.59 1.41.59.51 0 1.02-.2 1.41-.59l7.78-7.78 2.81-2.81c.8-.78.8-2.07 0-2.86zM5.41 20L4 18.59l7.72-7.72 1.47 1.35L5.41 20z\"/>\n",
              "  </svg>\n",
              "      </button>\n",
              "      \n",
              "  <style>\n",
              "    .colab-df-container {\n",
              "      display:flex;\n",
              "      flex-wrap:wrap;\n",
              "      gap: 12px;\n",
              "    }\n",
              "\n",
              "    .colab-df-convert {\n",
              "      background-color: #E8F0FE;\n",
              "      border: none;\n",
              "      border-radius: 50%;\n",
              "      cursor: pointer;\n",
              "      display: none;\n",
              "      fill: #1967D2;\n",
              "      height: 32px;\n",
              "      padding: 0 0 0 0;\n",
              "      width: 32px;\n",
              "    }\n",
              "\n",
              "    .colab-df-convert:hover {\n",
              "      background-color: #E2EBFA;\n",
              "      box-shadow: 0px 1px 2px rgba(60, 64, 67, 0.3), 0px 1px 3px 1px rgba(60, 64, 67, 0.15);\n",
              "      fill: #174EA6;\n",
              "    }\n",
              "\n",
              "    [theme=dark] .colab-df-convert {\n",
              "      background-color: #3B4455;\n",
              "      fill: #D2E3FC;\n",
              "    }\n",
              "\n",
              "    [theme=dark] .colab-df-convert:hover {\n",
              "      background-color: #434B5C;\n",
              "      box-shadow: 0px 1px 3px 1px rgba(0, 0, 0, 0.15);\n",
              "      filter: drop-shadow(0px 1px 2px rgba(0, 0, 0, 0.3));\n",
              "      fill: #FFFFFF;\n",
              "    }\n",
              "  </style>\n",
              "\n",
              "      <script>\n",
              "        const buttonEl =\n",
              "          document.querySelector('#df-ba7afe4f-2012-48ed-8fbb-822ff32be0ff button.colab-df-convert');\n",
              "        buttonEl.style.display =\n",
              "          google.colab.kernel.accessAllowed ? 'block' : 'none';\n",
              "\n",
              "        async function convertToInteractive(key) {\n",
              "          const element = document.querySelector('#df-ba7afe4f-2012-48ed-8fbb-822ff32be0ff');\n",
              "          const dataTable =\n",
              "            await google.colab.kernel.invokeFunction('convertToInteractive',\n",
              "                                                     [key], {});\n",
              "          if (!dataTable) return;\n",
              "\n",
              "          const docLinkHtml = 'Like what you see? Visit the ' +\n",
              "            '<a target=\"_blank\" href=https://colab.research.google.com/notebooks/data_table.ipynb>data table notebook</a>'\n",
              "            + ' to learn more about interactive tables.';\n",
              "          element.innerHTML = '';\n",
              "          dataTable['output_type'] = 'display_data';\n",
              "          await google.colab.output.renderOutput(dataTable, element);\n",
              "          const docLink = document.createElement('div');\n",
              "          docLink.innerHTML = docLinkHtml;\n",
              "          element.appendChild(docLink);\n",
              "        }\n",
              "      </script>\n",
              "    </div>\n",
              "  </div>\n",
              "  "
            ]
          },
          "metadata": {},
          "execution_count": 3
        }
      ]
    },
    {
      "cell_type": "markdown",
      "source": [
        "We separate the label (the quality level of the wine) from the features (characteristics that will help us predict the label):"
      ],
      "metadata": {
        "id": "aD9qYI9x9kVH"
      }
    },
    {
      "cell_type": "code",
      "source": [
        "df_features = df.drop(columns='quality')\n",
        "df_label = df['quality']"
      ],
      "metadata": {
        "id": "mHJEWkzTh3l1"
      },
      "execution_count": null,
      "outputs": []
    },
    {
      "cell_type": "markdown",
      "source": [
        "And we can start the normalization.\n",
        "\n",
        "As explained before, normalization is changing the scale of values of the columns of our dataset.\n",
        "\n",
        "But what defines this scale?\n",
        "\n",
        "Let’s take the `fixed acidity` column, the scale is first determined by the minimum and maximum value.\n",
        "\n",
        "**Minimum** and **maximum** are the values between which all the others oscillate.\n",
        "\n",
        "Then we have the **mean**: the sum of these data divided by their total number.\n",
        "\n",
        "And the **standard deviation**, which measures how far the values in the dataset are from the mean. The higher the value of standard deviation, the further the values are from the mean.\n",
        "\n",
        "Let’s display these measurements for the `fixed acidity` column."
      ],
      "metadata": {
        "id": "XXIvAVMI9mOm"
      }
    },
    {
      "cell_type": "code",
      "source": [
        "print(f'Min : ',df_features['fixed acidity'].min(),', Max :', df_features['fixed acidity'].max())\n",
        "print(f'Mean : ',round(df_features['fixed acidity'].mean(),2),', Standard Deviation :', round(df_features['fixed acidity'].std(),2))"
      ],
      "metadata": {
        "colab": {
          "base_uri": "https://localhost:8080/"
        },
        "id": "LKEvzsI1isAE",
        "outputId": "0e7afc1d-bbbe-4d6a-8d31-d67847398a79"
      },
      "execution_count": null,
      "outputs": [
        {
          "output_type": "stream",
          "name": "stdout",
          "text": [
            "Min :  3.8 , Max : 14.2\n",
            "Mean :  6.85 , Standard Deviation : 0.84\n"
          ]
        }
      ]
    },
    {
      "cell_type": "markdown",
      "source": [
        "Other metric exist to measure the scale of a dataset but these are the main ones.\n",
        "\n",
        "Normalization is modify these measures (while preserving the information), thanks to mathematical functions, to include them in the scale of our choice."
      ],
      "metadata": {
        "id": "kzrrdjxT9xrm"
      }
    },
    {
      "cell_type": "markdown",
      "source": [
        "## **Normalize between 0 and 1**"
      ],
      "metadata": {
        "id": "ses0tY_HmSE0"
      }
    },
    {
      "cell_type": "markdown",
      "source": [
        "One of the most basic normalizations is the 0 to 1 normalization.\n",
        "\n",
        "We modify our data so that they fall in the interval in the interval `[0, 1]`.\n",
        "\n",
        "The minimum will be 0 and the maximum will be 1.\n",
        "\n",
        "For this we initialize `MinMaxScaler()` of the preprocessing package of sklearn :"
      ],
      "metadata": {
        "id": "8JCRZJBu90Xh"
      }
    },
    {
      "cell_type": "code",
      "source": [
        "from sklearn import preprocessing\n",
        "\n",
        "transformer = preprocessing.MinMaxScaler().fit(df_features[['fixed acidity']])"
      ],
      "metadata": {
        "id": "DvTHQOVWmXU_"
      },
      "execution_count": null,
      "outputs": []
    },
    {
      "cell_type": "markdown",
      "source": [
        "Then we use the `transform()` function on our `fixed acidity` column to normalize it:"
      ],
      "metadata": {
        "id": "PRNUghgp97bN"
      }
    },
    {
      "cell_type": "code",
      "source": [
        "X_transformed = transformer.transform(df_features[['fixed acidity']])\n",
        "X_transformed"
      ],
      "metadata": {
        "colab": {
          "base_uri": "https://localhost:8080/"
        },
        "id": "PXJQeRXnmbou",
        "outputId": "747a7fde-5336-497c-8cb7-9ff83648b25c"
      },
      "execution_count": null,
      "outputs": [
        {
          "output_type": "execute_result",
          "data": {
            "text/plain": [
              "array([[0.30769231],\n",
              "       [0.24038462],\n",
              "       [0.41346154],\n",
              "       ...,\n",
              "       [0.25961538],\n",
              "       [0.16346154],\n",
              "       [0.21153846]])"
            ]
          },
          "metadata": {},
          "execution_count": 9
        }
      ]
    },
    {
      "cell_type": "markdown",
      "source": [
        "You can display X_transformed and see that the values have been transformed. They have been normalized.\n",
        "\n",
        "This does not or hardly degrade our data.\n",
        "\n",
        "Indeed, the normalization modifies the value of the data but does so while preserving the information about the distance between each point.\n",
        "\n",
        "Moreover, it suffices to use the `inverse_transform()` function to return to the previous values.\n",
        "\n",
        "*Be aware that the transformation converts your DataFrame into a Numpy Array. To have a DataFrame instead of a Numpy Array, use after the normalization operation :* `df = pd.DataFrame(X_transformed, columns = ['fixed acidity', 'volatile acidity', 'citric acid', 'residual sugar', 'chlorides', 'free sulfur dioxide', 'total sulfur dioxide', 'density', 'pH', 'sulphates', 'alcohol'])`.\n",
        "\n",
        "The measurements can now be displayed to confirm that normalization has occurred:"
      ],
      "metadata": {
        "id": "iXdLleHW9_pe"
      }
    },
    {
      "cell_type": "code",
      "source": [
        "print(f'Min : ',round(X_transformed.min(),2),', Max :', round(X_transformed.max(),2))\n",
        "print(f'Mean : ',round(X_transformed.mean(),2),', Standard Deviation :', round(X_transformed.std(),2))"
      ],
      "metadata": {
        "colab": {
          "base_uri": "https://localhost:8080/"
        },
        "id": "ZeR419k_mhC3",
        "outputId": "0db992a4-da1c-4a2b-e0f8-91e3869abf57"
      },
      "execution_count": null,
      "outputs": [
        {
          "output_type": "stream",
          "name": "stdout",
          "text": [
            "Min :  0.0 , Max : 1.0\n",
            "Mean :  0.29 , Standard Deviation : 0.08\n"
          ]
        }
      ]
    },
    {
      "cell_type": "markdown",
      "source": [
        "## **Normalize between -1 and 1**"
      ],
      "metadata": {
        "id": "WfBqKdNxnfdF"
      }
    },
    {
      "cell_type": "markdown",
      "source": [
        "Another usual normalization is the normalization from -1 to 1.\n",
        "\n",
        "We use the same function as before `MinMaxScaler()` but, here, we indicate the `feature_range` attribute which determines the normalization interval: (-1, 1)"
      ],
      "metadata": {
        "id": "ZvBmBA53-KWp"
      }
    },
    {
      "cell_type": "code",
      "source": [
        "from sklearn import preprocessing\n",
        "\n",
        "transformer2 = preprocessing.MinMaxScaler(feature_range=(-1, 1)).fit(df_features[['fixed acidity']])"
      ],
      "metadata": {
        "id": "KtJdfItEnhHp"
      },
      "execution_count": null,
      "outputs": []
    },
    {
      "cell_type": "markdown",
      "source": [
        "We apply the transformation :"
      ],
      "metadata": {
        "id": "jQvgOcrS-PLD"
      }
    },
    {
      "cell_type": "code",
      "source": [
        "X_transformed2 = transformer2.transform(df_features[['fixed acidity']])\n",
        "X_transformed2"
      ],
      "metadata": {
        "colab": {
          "base_uri": "https://localhost:8080/"
        },
        "outputId": "41ea25ce-816d-46af-92a9-94d682671367",
        "id": "39_7yRyBnhHr"
      },
      "execution_count": null,
      "outputs": [
        {
          "output_type": "execute_result",
          "data": {
            "text/plain": [
              "array([[-0.38461538],\n",
              "       [-0.51923077],\n",
              "       [-0.17307692],\n",
              "       ...,\n",
              "       [-0.48076923],\n",
              "       [-0.67307692],\n",
              "       [-0.57692308]])"
            ]
          },
          "metadata": {},
          "execution_count": 12
        }
      ]
    },
    {
      "cell_type": "markdown",
      "source": [
        "And we display the measurements:"
      ],
      "metadata": {
        "id": "MuX91eBj-QUG"
      }
    },
    {
      "cell_type": "code",
      "source": [
        "print(f'Min : ',round(X_transformed2.min(),2),', Max :', round(X_transformed2.max(),2))\n",
        "print(f'Mean : ',round(X_transformed2.mean(),2),', Standard Deviation :', round(X_transformed2.std(),2))"
      ],
      "metadata": {
        "colab": {
          "base_uri": "https://localhost:8080/"
        },
        "outputId": "26efc81d-a23d-43ee-a32b-a3e673200946",
        "id": "LRsNTjmonhHr"
      },
      "execution_count": null,
      "outputs": [
        {
          "output_type": "stream",
          "name": "stdout",
          "text": [
            "Min :  -1.0 , Max : 1.0\n",
            "Mean :  -0.41 , Standard Deviation : 0.16\n"
          ]
        }
      ]
    },
    {
      "cell_type": "markdown",
      "source": [
        "*Note that the function can be used for any type of interval (-10, 10), (-100, 100), etc.*"
      ],
      "metadata": {
        "id": "jeoDqfB5-Ru2"
      }
    },
    {
      "cell_type": "markdown",
      "source": [
        "## **Obtaining a Normal Distribution (Normal Law)**"
      ],
      "metadata": {
        "id": "x0en0ofUl3eN"
      }
    },
    {
      "cell_type": "markdown",
      "source": [
        "Let’s move on to a normalization more prized by experts.\n",
        "\n",
        "Normal Law normalization, also called standardization, consists in modifying the scale of a data set in such a way as to obtain :\n",
        "\n",
        "- A standard deviation of 1\n",
        "- A mean of 0\n",
        "\n",
        "Standardization is ideal when we have outliers, data that are unusually far from the mean.\n",
        "\n",
        "Indeed, in the previous standardizations, we imposed a limit to our data: between 0 and 1 for example.\n",
        "\n",
        "With standardization, there is no limit, only the requirement to have a mean of 0 and a standard deviation of 1.\n",
        "\n",
        "Thus, when the dataset has outliers, it is preferable to use standardization. The non-limitation offered by standardization allows us to preserve the information about the unusual distance of the outliers.\n",
        "\n",
        "To standardize we use `StandardScaler`:"
      ],
      "metadata": {
        "id": "i21g8CDY-UX-"
      }
    },
    {
      "cell_type": "code",
      "source": [
        "from sklearn import preprocessing\n",
        "\n",
        "transformer = preprocessing.StandardScaler().fit(df_features[['fixed acidity']])"
      ],
      "metadata": {
        "id": "E4z1p_cRh_Vi"
      },
      "execution_count": null,
      "outputs": []
    },
    {
      "cell_type": "markdown",
      "source": [
        "We apply the transformation :"
      ],
      "metadata": {
        "id": "CNPiRGhZik2F"
      }
    },
    {
      "cell_type": "code",
      "source": [
        "X_transformed3 = transformer.transform(df_features[['fixed acidity']])\n",
        "X_transformed3"
      ],
      "metadata": {
        "colab": {
          "base_uri": "https://localhost:8080/"
        },
        "id": "HvuuqDuziZie",
        "outputId": "5ab015e4-6b3d-4e68-9e66-4fdd63b1ba33"
      },
      "execution_count": null,
      "outputs": [
        {
          "output_type": "execute_result",
          "data": {
            "text/plain": [
              "array([[ 0.17209696],\n",
              "       [-0.65750113],\n",
              "       [ 1.4757511 ],\n",
              "       ...,\n",
              "       [-0.4204731 ],\n",
              "       [-1.60561323],\n",
              "       [-1.01304317]])"
            ]
          },
          "metadata": {},
          "execution_count": 15
        }
      ]
    },
    {
      "cell_type": "markdown",
      "source": [
        "And we display the measurements:"
      ],
      "metadata": {
        "id": "LPdhQuiS-kR4"
      }
    },
    {
      "cell_type": "code",
      "source": [
        "print(f'Min : ',round(X_transformed3.min(),2),', Max :', round(X_transformed3.max(),2))\n",
        "print(f'Mean : ',round(X_transformed3.mean(),2),', Standard Deviation :', round(X_transformed3.std(),2))"
      ],
      "metadata": {
        "colab": {
          "base_uri": "https://localhost:8080/"
        },
        "id": "oV1uWsXoihCR",
        "outputId": "3ea1f46b-ff76-4f29-d327-cda10d25c171"
      },
      "execution_count": null,
      "outputs": [
        {
          "output_type": "stream",
          "name": "stdout",
          "text": [
            "Min :  -3.62 , Max : 15.03\n",
            "Mean :  0.0 , Standard Deviation : 1.0\n"
          ]
        }
      ]
    },
    {
      "cell_type": "markdown",
      "source": [
        "## **The Power of Normalization**"
      ],
      "metadata": {
        "id": "1FMc2QODodPU"
      }
    },
    {
      "cell_type": "markdown",
      "source": [
        "Is great to know how to use normalization, but does it work?\n",
        "\n",
        "[In our detailed article on how to learn Machine Learning](https://inside-machinelearning.com/en/scikit-learn-project-start-ml/) we explored several models to determine the most efficient.\n",
        "\n",
        "Result: the best model was the Decision Tree with an accuracy of 60%.\n",
        "\n",
        "A satisfactory score considering the correlation between our features and the label but…\n",
        "\n",
        "… can we improve this score with normalization ?\n",
        "\n",
        "**Let’s see that now !** 🔥\n",
        "\n",
        "Here we initialize the standardization on all our features:"
      ],
      "metadata": {
        "id": "-pC5OYhR-mfF"
      }
    },
    {
      "cell_type": "code",
      "source": [
        "from sklearn import preprocessing\n",
        "\n",
        "transformer = preprocessing.StandardScaler().fit(df_features)"
      ],
      "metadata": {
        "id": "AUkmRcULohQx"
      },
      "execution_count": null,
      "outputs": []
    },
    {
      "cell_type": "markdown",
      "source": [
        "We apply the transformation :"
      ],
      "metadata": {
        "id": "aNF45gXP-tYZ"
      }
    },
    {
      "cell_type": "code",
      "source": [
        "df_features_transformed = transformer.transform(df_features)"
      ],
      "metadata": {
        "id": "YQy1NusSodpl"
      },
      "execution_count": null,
      "outputs": []
    },
    {
      "cell_type": "markdown",
      "source": [
        "Now we can separate our data for training and testing:"
      ],
      "metadata": {
        "id": "CBhwa3-f-usV"
      }
    },
    {
      "cell_type": "code",
      "source": [
        "from sklearn.model_selection import train_test_split\n",
        "from sklearn.svm import SVC\n",
        "\n",
        "X_train, X_test, y_train, y_test = train_test_split(df_features, df_label, test_size=0.20)"
      ],
      "metadata": {
        "id": "5s02K4Hklyql"
      },
      "execution_count": null,
      "outputs": []
    },
    {
      "cell_type": "markdown",
      "source": [
        "Now let’s train our Decision Tree:"
      ],
      "metadata": {
        "id": "7rOiiPuV-woW"
      }
    },
    {
      "cell_type": "code",
      "source": [
        "from sklearn import tree\n",
        "\n",
        "decisionTree = tree.DecisionTreeClassifier()\n",
        "decisionTree.fit(X_train, y_train)"
      ],
      "metadata": {
        "colab": {
          "base_uri": "https://localhost:8080/"
        },
        "id": "ODTHvfagorEt",
        "outputId": "a9757395-5a08-4b21-8d21-2b9cc5dfc352"
      },
      "execution_count": null,
      "outputs": [
        {
          "output_type": "execute_result",
          "data": {
            "text/plain": [
              "DecisionTreeClassifier()"
            ]
          },
          "metadata": {},
          "execution_count": 168
        }
      ]
    },
    {
      "cell_type": "markdown",
      "source": [
        "Finally let’s compute its accuracy:"
      ],
      "metadata": {
        "id": "cglYsKTQHtsf"
      }
    },
    {
      "cell_type": "code",
      "source": [
        "decisionTree.score(X_test, y_test)"
      ],
      "metadata": {
        "colab": {
          "base_uri": "https://localhost:8080/"
        },
        "id": "pRg8egux6UjM",
        "outputId": "e93a2d20-d828-4439-b4a7-3dc788527763"
      },
      "execution_count": null,
      "outputs": [
        {
          "output_type": "execute_result",
          "data": {
            "text/plain": [
              "0.6265306122448979"
            ]
          },
          "metadata": {},
          "execution_count": 169
        }
      ]
    },
    {
      "cell_type": "markdown",
      "source": [
        "62.6% of accuracy!\n",
        "\n",
        "With normalization we managed to increase the performance of the model by 2.6%.\n",
        "\n",
        "This may not seem much to the eyes of a beginner, but experts know that increasing the accuracy of a model by even 1% is already tremendous.\n",
        "\n",
        "**And you, what score did you achieve with normalization?**\n",
        "\n",
        "There are many other methods to improve a Machine Learning model. After normalization, we can mention :\n",
        "\n",
        "- [Cross-Validation](https://inside-machinelearning.com/en/cross-validation-tutorial/)\n",
        "- [Changing the models hyperparameters](https://inside-machinelearning.com/en/decision-tree-and-hyperparameters/)\n",
        "- Data Augmentation\n",
        "- Ensemble methods\n",
        "\n",
        "See you soon in a next article!\n",
        "\n",
        "And if you want to stay informed don’t hesitate to subscribe to our newsletter 😉"
      ],
      "metadata": {
        "id": "SCT2R2KJ-2bN"
      }
    },
    {
      "cell_type": "code",
      "source": [],
      "metadata": {
        "id": "JA3pTlNb_vQX"
      },
      "execution_count": null,
      "outputs": []
    }
  ]
}
